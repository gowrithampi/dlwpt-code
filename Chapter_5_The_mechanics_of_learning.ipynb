{
  "nbformat": 4,
  "nbformat_minor": 0,
  "metadata": {
    "colab": {
      "name": "Chapter 5: The mechanics of learning.ipynb",
      "provenance": [],
      "collapsed_sections": [],
      "authorship_tag": "ABX9TyP1Mi1iKfz2eWpFu+88HyQ3",
      "include_colab_link": true
    },
    "kernelspec": {
      "name": "python3",
      "display_name": "Python 3"
    },
    "language_info": {
      "name": "python"
    }
  },
  "cells": [
    {
      "cell_type": "markdown",
      "metadata": {
        "id": "view-in-github",
        "colab_type": "text"
      },
      "source": [
        "<a href=\"https://colab.research.google.com/github/gowrithampi/dlwpt-code/blob/master/Chapter_5_The_mechanics_of_learning.ipynb\" target=\"_parent\"><img src=\"https://colab.research.google.com/assets/colab-badge.svg\" alt=\"Open In Colab\"/></a>"
      ]
    },
    {
      "cell_type": "markdown",
      "metadata": {
        "id": "-xN4Uzoyt9P3"
      },
      "source": [
        "# Deep Learning with Pytorch\n",
        "## Chapter 5: The Mechanics of Learning"
      ]
    },
    {
      "cell_type": "markdown",
      "metadata": {
        "id": "3igl2CsVid8R"
      },
      "source": [
        "This is a fun chapter it familiarizes one with the idea of learning, by building a simple linear regression model by gradient descent. "
      ]
    },
    {
      "cell_type": "markdown",
      "metadata": {
        "id": "xcLxvu9ztote"
      },
      "source": [
        "Problem statement : There is a cool thermometer hanging on the wall. It seems to measure temperature, but we don't know what unit it measures temperature in. We want a way to convert the temperature shown by the thermometer to celsius. \n"
      ]
    },
    {
      "cell_type": "markdown",
      "metadata": {
        "id": "Owxqm_WYla1e"
      },
      "source": [
        "Our strategy: We observe a set of temperature data, from our little pocket celsius thermometer and the corresponding reading from the wall thermometer. Armed with this data, we tackle this problem as a machine learning problem.\n",
        "Assuming there is a linear relationship between the readings from both thermometers, we use gradient descent to learn the weights of our model. \n",
        "First without pytorch's autograd and then with it. "
      ]
    },
    {
      "cell_type": "code",
      "metadata": {
        "id": "yX2PSwBgvFZ8"
      },
      "source": [
        "# t_c is a list of temperatures observed in celsius\n",
        "# t_u is a list of temperatures observed in unknown units \n",
        "import torch\n",
        "t_c = [0.5, 14.0, 15.0,28.0,11.0,8.0,3.0,-4.0,6.0,13.0,21.0]\n",
        "t_u = [35.7,55.9,58.2,81.9,56.3,48.9,33.9,21.8,48.4,60.4,68.4]\n",
        "t_c = torch.tensor(t_c)\n",
        "t_u = torch.tensor(t_u)\n"
      ],
      "execution_count": 2,
      "outputs": []
    },
    {
      "cell_type": "markdown",
      "metadata": {
        "id": "Wel7AtmjwZ1W"
      },
      "source": [
        "Let's visualize above data"
      ]
    },
    {
      "cell_type": "code",
      "metadata": {
        "colab": {
          "base_uri": "https://localhost:8080/",
          "height": 295
        },
        "id": "pznLnRc5wdpB",
        "outputId": "186bb27c-ddcb-4189-e4fc-7b1f80107f5e"
      },
      "source": [
        "import matplotlib.pyplot as plt\n",
        "\n",
        "fig, ax = plt.subplots()\n",
        "\n",
        "plt.scatter(t_u, t_c)\n",
        "plt.title('Temperature scatter plot')\n",
        "ax.set_xlabel('Temperature in unknown units')\n",
        "ax.set_ylabel('Temperature in celsius')\n",
        "plt.show()"
      ],
      "execution_count": 3,
      "outputs": [
        {
          "output_type": "display_data",
          "data": {
            "image/png": "[encoded data removed]",
            "text/plain": [
              "<Figure size 432x288 with 1 Axes>"
            ]
          },
          "metadata": {
            "tags": [],
            "needs_background": "light"
          }
        }
      ]
    },
    {
      "cell_type": "code",
      "metadata": {
        "id": "tt0vC_0Ey-fQ"
      },
      "source": [
        "## linear model \n",
        "def model (t_u, w , b):\n",
        "  # predicted temperature is \n",
        "  # weight times unknown temp\n",
        "  # plus bias \n",
        "  # w and b are scalars\n",
        "  # their values get broadcasted\n",
        "  # across the vector v_u\n",
        "  t_p = w*t_u +b \n",
        "  return t_p"
      ],
      "execution_count": 4,
      "outputs": []
    },
    {
      "cell_type": "markdown",
      "metadata": {
        "id": "CM6rKglZ3hMJ"
      },
      "source": [
        "Now we need a loss function. A loss function is a function of the model parameters, that needs to decrease as learning progresses. This is how we know that we are learning (updating the model parameters) in the right direction. \n",
        "\n",
        "If the loss function is convex, then it will have a global minimum, and the argmin of the loss function will be the final value of the model parameters. \n",
        "\n",
        "Here we use the mean squared error between t_c (the observed temperature in celsius) and t_p(the temperature predicted by our model) as the loss function. \n"
      ]
    },
    {
      "cell_type": "code",
      "metadata": {
        "id": "BEcUmYmy4PiY"
      },
      "source": [
        "def loss_function (t_c, t_p):\n",
        "\n",
        "  squared_error = (t_c - t_p)**2\n",
        "  mean_squared_error = squared_error.mean()\n",
        "  return mean_squared_error\n",
        "\n"
      ],
      "execution_count": 5,
      "outputs": []
    },
    {
      "cell_type": "code",
      "metadata": {
        "id": "CJ2v9Foo3f9B",
        "colab": {
          "base_uri": "https://localhost:8080/"
        },
        "outputId": "ea01c7bd-52ed-4542-eacc-0a04d65de394"
      },
      "source": [
        "# initialize weights and bias\n",
        "w = torch.ones([])\n",
        "b = torch.zeros([])\n",
        "\n",
        "# model forward pass\n",
        "t_p = w*t_u +b\n",
        "\n",
        "# calculate loss\n",
        "loss = loss_function(t_c, t_p)\n",
        "\n",
        "print(loss)"
      ],
      "execution_count": 6,
      "outputs": [
        {
          "output_type": "stream",
          "text": [
            "tensor(1763.8848)\n"
          ],
          "name": "stdout"
        }
      ]
    },
    {
      "cell_type": "markdown",
      "metadata": {
        "id": "EKjEA-egM4GE"
      },
      "source": [
        "Gradient Descent: The basic idea is that we can find the minimum of the loss function by taking baby steps in the direction in which the function is decreasing. Of course in the case of the above convex function, it is easy to find the global minimum by differentiating the function and equating it to zero. In the interest of learning (our learning, not the model's) though, we'll try to get there by gradient descent. "
      ]
    },
    {
      "cell_type": "code",
      "metadata": {
        "id": "zE-HVpDft1gs"
      },
      "source": [
        "# derivative of loss function with respect to t_p (model)\n",
        "def dloss_fn(t_c, t_p):\n",
        "  dloss_dtp = 2 * (t_p - t_c)/t_p.size(0)\n",
        "  return dloss_dtp\n",
        "\n",
        "# derivative of t_p(model) with respect to w\n",
        "def dmodel_dw(t_u, w, b):\n",
        "  return t_u \n",
        "\n",
        "# derivative of t_p(model) with respect to b\n",
        "def dmodel_db(t_u, w, b): \n",
        "   return 1.0 \n",
        "\n",
        "# final gradient depends on input, actuals, prediction and model parameters\n",
        "# final gradient is calculated by using the chain rule and the above gradients\n",
        "def gradient(t_u, t_c, t_p, w, b):\n",
        "    dloss_dw = dloss_fn(t_c, t_p)* dmodel_dw(t_u, w , b)\n",
        "    dloss_db = dloss_fn(t_c, t_p)*dmodel_db(t_u, w, b)\n",
        "    return dloss_dw.sum(), dloss_db.sum()\n"
      ],
      "execution_count": 7,
      "outputs": []
    },
    {
      "cell_type": "markdown",
      "metadata": {
        "id": "Fv1FnOALUtci"
      },
      "source": [
        "The training loop will now consist of iterating through \n",
        "1) A forward pass\n",
        "2) evaluation of gradients at the weights used in the forward pass\n",
        "3) updating the weights using the learning rate and gradients (backward pass)"
      ]
    },
    {
      "cell_type": "code",
      "metadata": {
        "id": "HrSLiDe4VBWg"
      },
      "source": [
        "# training loop also depends on number of epochs and the learning rate\n",
        "def training_loop (n_epochs, learning_rate, t_u, t_c, t_p, params): \n",
        "  w,b = params\n",
        "  for epoch in range(1, n_epochs): \n",
        "    grad_w , grad_b = gradient(t_u, t_c, t_p , w, b) \n",
        "    w = w - learning_rate*grad_w\n",
        "    b = b - learning_rate*grad_b\n",
        "    t_p = model(t_u, w,b)\n",
        "    loss = loss_function(t_c, t_p)\n",
        "    if (epoch % 50 == 0): \n",
        "     print(\"Epoch number {0:.0f} , Loss is {1:.2f}\".format(epoch,loss))\n",
        "     print(\"Bias is {bias:0.4f} and Weight is {weight: 0.4f} \\n\\n\".format( bias = b,weight = w))\n",
        "\n",
        "  return w, b\n"
      ],
      "execution_count": 8,
      "outputs": []
    },
    {
      "cell_type": "code",
      "metadata": {
        "colab": {
          "base_uri": "https://localhost:8080/"
        },
        "id": "a6xoKcu6W7m5",
        "outputId": "0219929a-6563-45e4-90c5-5985ec43af9a"
      },
      "source": [
        "# initialize weights and bias\n",
        "w = torch.ones([])\n",
        "b = torch.zeros([])\n",
        "training_loop(100, 0.0001, t_u, t_c, t_p , (w,b))"
      ],
      "execution_count": 9,
      "outputs": [
        {
          "output_type": "stream",
          "text": [
            "Epoch number 10 , Loss is 29.10\n",
            "Bias is -0.0166 and Weight is  0.2324 \n",
            "\n",
            "\n",
            "Epoch number 20 , Loss is 29.09\n",
            "Bias is -0.0196 and Weight is  0.2323 \n",
            "\n",
            "\n",
            "Epoch number 30 , Loss is 29.09\n",
            "Bias is -0.0226 and Weight is  0.2323 \n",
            "\n",
            "\n",
            "Epoch number 40 , Loss is 29.08\n",
            "Bias is -0.0256 and Weight is  0.2324 \n",
            "\n",
            "\n",
            "Epoch number 50 , Loss is 29.07\n",
            "Bias is -0.0287 and Weight is  0.2325 \n",
            "\n",
            "\n",
            "Epoch number 60 , Loss is 29.06\n",
            "Bias is -0.0317 and Weight is  0.2325 \n",
            "\n",
            "\n",
            "Epoch number 70 , Loss is 29.05\n",
            "Bias is -0.0347 and Weight is  0.2326 \n",
            "\n",
            "\n",
            "Epoch number 80 , Loss is 29.04\n",
            "Bias is -0.0377 and Weight is  0.2326 \n",
            "\n",
            "\n",
            "Epoch number 90 , Loss is 29.03\n",
            "Bias is -0.0408 and Weight is  0.2327 \n",
            "\n",
            "\n"
          ],
          "name": "stdout"
        },
        {
          "output_type": "execute_result",
          "data": {
            "text/plain": [
              "(tensor(0.2327), tensor(-0.0435))"
            ]
          },
          "metadata": {
            "tags": []
          },
          "execution_count": 9
        }
      ]
    },
    {
      "cell_type": "code",
      "metadata": {
        "id": "5xR61FIgoJ0T"
      },
      "source": [
        ""
      ],
      "execution_count": 9,
      "outputs": []
    },
    {
      "cell_type": "markdown",
      "metadata": {
        "id": "bpV8S3O2oYV5"
      },
      "source": [
        "### Normalization of inputs: \n",
        "In the first few epochs we can notice that there is an order of magnitude difference between the weight and the bias term.\n",
        "To have a learning rate that works for both the weight and the bias, it is important to normalize these inputs. \n",
        "\n",
        "In the textbook, the authors use a simple rescaling factor of 0.1 for the input t_u. Let's try that.\n",
        "\n"
      ]
    },
    {
      "cell_type": "code",
      "metadata": {
        "id": "BC4bndg3puyC"
      },
      "source": [
        "w = torch.ones([])\n",
        "b = torch.zeros([])\n",
        "\n",
        "w,b = training_loop(5000,  1e-2, t_u*0.1, t_c, t_p, params = (w,b))"
      ],
      "execution_count": null,
      "outputs": []
    },
    {
      "cell_type": "markdown",
      "metadata": {
        "id": "e1cPVzSLq4X4"
      },
      "source": [
        "With normalization it was possible to use a larger learning rate of 0.2 and not have the parameters explode. Setting n_epochs to 5000, we can see that the values closely resemble the parameters for converting Fahrenheit to Celsius. \n",
        "The actual values are (w = 5.5556, b = -17.7778). Looks like the fancy wall thermometer was showing the temperature in Fahrenheit"
      ]
    },
    {
      "cell_type": "markdown",
      "metadata": {
        "id": "ahLzxA5Fq5GR"
      },
      "source": [
        "Revisualizing the data using matplotlib"
      ]
    },
    {
      "cell_type": "code",
      "metadata": {
        "colab": {
          "base_uri": "https://localhost:8080/",
          "height": 379
        },
        "id": "kLEb-kaYtb2M",
        "outputId": "4e4014ee-e3a6-4eba-f296-3ef8b6500e6f"
      },
      "source": [
        "# we scale the input because the model in normalized\n",
        "t_p = model(t_u*0.1, w, b)\n",
        "\n",
        "plt.plot(t_u.numpy(), t_p.detach().numpy())\n",
        "plt.plot(t_u.numpy(), t_c.numpy(), 'o')\n",
        "plt.title(\"Convert fancy thermometer units to celsius\")\n",
        "plt.xlabel('Temperature in unknown unit(probably fahrenheit')\n",
        "plt.ylabel('Temperature in celsius')\n",
        "plt.show()\n",
        "print(t_p)\n",
        "print(w, b)\n",
        "print(t_u*w + b)"
      ],
      "execution_count": 11,
      "outputs": [
        {
          "output_type": "display_data",
          "data": {
            "image/png": "[encoded data removed]",
            "text/plain": [
              "<Figure size 432x288 with 1 Axes>"
            ]
          },
          "metadata": {
            "tags": [],
            "needs_background": "light"
          }
        },
        {
          "output_type": "stream",
          "text": [
            "tensor([ 1.8593, 12.7008, 13.9352, 26.6552, 12.9155,  8.9439,  0.8932, -5.6009,\n",
            "         8.6755, 15.1160, 19.4097])\n",
            "tensor(5.3671) tensor(-17.3012)\n",
            "tensor([174.3037, 282.7188, 295.0630, 422.2629, 284.8656, 245.1492, 164.6429,\n",
            "         99.7012, 242.4656, 306.8706, 349.8073])\n"
          ],
          "name": "stdout"
        }
      ]
    },
    {
      "cell_type": "code",
      "metadata": {
        "id": "MMLMU1LDYNJi"
      },
      "source": [
        ""
      ],
      "execution_count": 11,
      "outputs": []
    },
    {
      "cell_type": "markdown",
      "metadata": {
        "id": "YN1eqfwdaB9E"
      },
      "source": [
        "Pytorch and automatic differentiation.\n",
        "Gradients in pytorch can be calculated via automatic differentiation, instead of manually defining formulae for them. \n",
        "The textbook reworks the above example using automatic differentiation. \n",
        "I will first take a break from this problem to explore automatic differentiation with tensors. We will then get back to the above problem and solve it using automatic differentiation. \n",
        "\n",
        "We can keep the product rule and chain rule of differntiation in mind for checking pytorch's answer"
      ]
    },
    {
      "cell_type": "code",
      "metadata": {
        "colab": {
          "base_uri": "https://localhost:8080/"
        },
        "id": "xnUTdU-1y85A",
        "outputId": "8f49aab1-d89d-4a52-d2fe-795380a49a41"
      },
      "source": [
        "## create a tensor\n",
        "# The parameter requires_grad needs to be set to True, for gradients to accumulate. \n",
        "original = torch.tensor([1,2,3], dtype = torch.float64, requires_grad = True)\n",
        "operand1 = torch.tensor([3,2,1], dtype = torch.float64, requires_grad = True)\n",
        "operand2 = torch.tensor([4,5,6], dtype = torch.float64, requires_grad = True )\n",
        "\n",
        "## the backward pass only works for scalars, so we have created a scalar dor product here\n",
        "dot_product1 = original.dot(operand1)\n",
        "dot_product2 = original.dot(operand2)\n",
        "\n",
        "print(dot_product1, dot_product2)"
      ],
      "execution_count": 22,
      "outputs": [
        {
          "output_type": "stream",
          "text": [
            "tensor(10., dtype=torch.float64, grad_fn=<DotBackward>) tensor(32., dtype=torch.float64, grad_fn=<DotBackward>)\n"
          ],
          "name": "stdout"
        }
      ]
    },
    {
      "cell_type": "code",
      "metadata": {
        "colab": {
          "base_uri": "https://localhost:8080/"
        },
        "id": "yX1eWjEC3Ad3",
        "outputId": "f5230167-58e4-4ea7-fe99-97e95e4d7e4c"
      },
      "source": [
        "#retain_graph needs to be set to True if we intent to call the backward pass again. \n",
        "#Which we may decide to do to learn  \n",
        "dot_product1.backward(retain_graph = True)\n",
        "original.grad"
      ],
      "execution_count": 15,
      "outputs": [
        {
          "output_type": "execute_result",
          "data": {
            "text/plain": [
              "tensor([3., 2., 1.], dtype=torch.float64)"
            ]
          },
          "metadata": {
            "tags": []
          },
          "execution_count": 15
        }
      ]
    },
    {
      "cell_type": "code",
      "metadata": {
        "colab": {
          "base_uri": "https://localhost:8080/"
        },
        "id": "hC4iIrRx3eUA",
        "outputId": "7d3dbdd7-719d-4589-d0d0-6d42e604304d"
      },
      "source": [
        "# if the gradient of original is not reset to zero,gradients from future calculations\n",
        "# like the one below will accumulate on top of previous calculations. Comment out \n",
        "# the .zero_() function to observe this \n",
        "original.grad.zero_()\n",
        "dot_product2.backward(retain_graph = True)\n",
        "original.grad"
      ],
      "execution_count": 16,
      "outputs": [
        {
          "output_type": "execute_result",
          "data": {
            "text/plain": [
              "tensor([4., 5., 6.], dtype=torch.float64)"
            ]
          },
          "metadata": {
            "tags": []
          },
          "execution_count": 16
        }
      ]
    },
    {
      "cell_type": "code",
      "metadata": {
        "colab": {
          "base_uri": "https://localhost:8080/"
        },
        "id": "wxc_JFQy3pZ3",
        "outputId": "403ee989-6a7e-4562-8dc9-085e23c00762"
      },
      "source": [
        "original.grad.zero_()\n",
        "\n",
        "# change the below from + to * , calculate gradients by hand\n",
        "# compare with pytorch's answer \n",
        "\n",
        "output = dot_product1 *dot_product2\n",
        "output.backward(retain_graph = True)\n",
        "original.grad\n",
        "\n"
      ],
      "execution_count": 21,
      "outputs": [
        {
          "output_type": "execute_result",
          "data": {
            "text/plain": [
              "tensor([136., 114.,  92.], dtype=torch.float64)"
            ]
          },
          "metadata": {
            "tags": []
          },
          "execution_count": 21
        }
      ]
    },
    {
      "cell_type": "markdown",
      "metadata": {
        "id": "0hMXDstO7Lz8"
      },
      "source": [
        "Now that I've understood how autograd works. I'm going to try to build the learning model for temperature conversion using autograd"
      ]
    },
    {
      "cell_type": "code",
      "metadata": {
        "id": "W_zYE9uK_IiB"
      },
      "source": [
        "## training function rewritten using autograd\n",
        "\n",
        "def training_loop_auto(n_epochs, learning_rate, t_u, t_c, params): \n",
        "\n",
        "  for epoch in range(0, n_epochs): \n",
        "    # zero out the parameter gradients. \n",
        "    if params.grad is not None: \n",
        "        params.grad.zero_()    \n",
        "    #w, b = params[0] , params[1]\n",
        "    t_p = model(t_u, *params )\n",
        "    \n",
        "    loss = loss_function(t_c, t_p)\n",
        "    loss.backward(retain_graph = True)\n",
        "    # here we are telling pytorch to not include the\n",
        "    # below computation in the forward graph\n",
        "\n",
        "    with torch.no_grad():\n",
        "      if params.grad is not None: \n",
        "          # params updated in place      \n",
        "          params-= learning_rate*params.grad\n",
        "          \n",
        "\n",
        "    if (epoch % 500 == 0):\n",
        "      print(\"Epoch number {epoch_num:d} has loss {loss_value:0.2f}\".format(epoch_num = epoch, loss_value = loss))\n",
        "      print(\"Bias is  {bias:0.2f} has weight is {weight:0.2f}\\n\\n\".format(bias = params[0], weight = params[1]))\n",
        "\n",
        "  return params \n",
        "\n",
        "## Important: I learned that params = params- learning_rate*params.grad \n",
        "## does not update params in place, a different variable called params is created\n",
        "## and assigned the value params - learning_rate*params.grad. \n",
        "## This variable did not have requires_grad = True\n",
        "## My code failed and I did not know why for the longest time\n"
      ],
      "execution_count": 135,
      "outputs": []
    },
    {
      "cell_type": "code",
      "metadata": {
        "colab": {
          "base_uri": "https://localhost:8080/"
        },
        "id": "pDo89ThwSgJT",
        "outputId": "569f39be-0746-4647-f611-18f4680fc20c"
      },
      "source": [
        "training_loop_auto(\n",
        "    n_epochs = 5000, \n",
        "    learning_rate = 1e-2, \n",
        "    params = torch.tensor([1.0, 0.0], requires_grad=True), # <1> \n",
        "    t_u = t_u*0.1, # <2> \n",
        "    t_c = t_c)"
      ],
      "execution_count": 136,
      "outputs": [
        {
          "output_type": "stream",
          "text": [
            "Epoch number 0 has loss 80.36\n",
            "Bias is  1.78 has weight is 0.11\n",
            "\n",
            "\n",
            "Epoch number 500 has loss 7.84\n",
            "Bias is  4.05 has weight is -9.83\n",
            "\n",
            "\n",
            "Epoch number 1000 has loss 3.83\n",
            "Bias is  4.80 has weight is -14.11\n",
            "\n",
            "\n",
            "Epoch number 1500 has loss 3.09\n",
            "Bias is  5.13 has weight is -15.94\n",
            "\n",
            "\n",
            "Epoch number 2000 has loss 2.96\n",
            "Bias is  5.26 has weight is -16.72\n",
            "\n",
            "\n",
            "Epoch number 2500 has loss 2.93\n",
            "Bias is  5.32 has weight is -17.06\n",
            "\n",
            "\n",
            "Epoch number 3000 has loss 2.93\n",
            "Bias is  5.35 has weight is -17.20\n",
            "\n",
            "\n",
            "Epoch number 3500 has loss 2.93\n",
            "Bias is  5.36 has weight is -17.26\n",
            "\n",
            "\n",
            "Epoch number 4000 has loss 2.93\n",
            "Bias is  5.36 has weight is -17.29\n",
            "\n",
            "\n",
            "Epoch number 4500 has loss 2.93\n",
            "Bias is  5.37 has weight is -17.30\n",
            "\n",
            "\n"
          ],
          "name": "stdout"
        },
        {
          "output_type": "execute_result",
          "data": {
            "text/plain": [
              "tensor([  5.3671, -17.3012], requires_grad=True)"
            ]
          },
          "metadata": {
            "tags": []
          },
          "execution_count": 136
        }
      ]
    }
  ]
}